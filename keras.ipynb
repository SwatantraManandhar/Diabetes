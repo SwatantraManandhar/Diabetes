{
 "cells": [
  {
   "cell_type": "code",
   "execution_count": 1,
   "metadata": {},
   "outputs": [
    {
     "data": {
      "text/html": [
       "<div>\n",
       "<style scoped>\n",
       "    .dataframe tbody tr th:only-of-type {\n",
       "        vertical-align: middle;\n",
       "    }\n",
       "\n",
       "    .dataframe tbody tr th {\n",
       "        vertical-align: top;\n",
       "    }\n",
       "\n",
       "    .dataframe thead th {\n",
       "        text-align: right;\n",
       "    }\n",
       "</style>\n",
       "<table border=\"1\" class=\"dataframe\">\n",
       "  <thead>\n",
       "    <tr style=\"text-align: right;\">\n",
       "      <th></th>\n",
       "      <th>Pregnancies</th>\n",
       "      <th>Glucose</th>\n",
       "      <th>BloodPressure</th>\n",
       "      <th>SkinThickness</th>\n",
       "      <th>Insulin</th>\n",
       "      <th>BMI</th>\n",
       "      <th>DiabetesPedigreeFunction</th>\n",
       "      <th>Age</th>\n",
       "      <th>Outcome</th>\n",
       "    </tr>\n",
       "  </thead>\n",
       "  <tbody>\n",
       "    <tr>\n",
       "      <th>0</th>\n",
       "      <td>6</td>\n",
       "      <td>148</td>\n",
       "      <td>72</td>\n",
       "      <td>35</td>\n",
       "      <td>0</td>\n",
       "      <td>33.6</td>\n",
       "      <td>0.627</td>\n",
       "      <td>50</td>\n",
       "      <td>1</td>\n",
       "    </tr>\n",
       "    <tr>\n",
       "      <th>1</th>\n",
       "      <td>1</td>\n",
       "      <td>85</td>\n",
       "      <td>66</td>\n",
       "      <td>29</td>\n",
       "      <td>0</td>\n",
       "      <td>26.6</td>\n",
       "      <td>0.351</td>\n",
       "      <td>31</td>\n",
       "      <td>0</td>\n",
       "    </tr>\n",
       "    <tr>\n",
       "      <th>2</th>\n",
       "      <td>8</td>\n",
       "      <td>183</td>\n",
       "      <td>64</td>\n",
       "      <td>0</td>\n",
       "      <td>0</td>\n",
       "      <td>23.3</td>\n",
       "      <td>0.672</td>\n",
       "      <td>32</td>\n",
       "      <td>1</td>\n",
       "    </tr>\n",
       "    <tr>\n",
       "      <th>3</th>\n",
       "      <td>1</td>\n",
       "      <td>89</td>\n",
       "      <td>66</td>\n",
       "      <td>23</td>\n",
       "      <td>94</td>\n",
       "      <td>28.1</td>\n",
       "      <td>0.167</td>\n",
       "      <td>21</td>\n",
       "      <td>0</td>\n",
       "    </tr>\n",
       "    <tr>\n",
       "      <th>4</th>\n",
       "      <td>0</td>\n",
       "      <td>137</td>\n",
       "      <td>40</td>\n",
       "      <td>35</td>\n",
       "      <td>168</td>\n",
       "      <td>43.1</td>\n",
       "      <td>2.288</td>\n",
       "      <td>33</td>\n",
       "      <td>1</td>\n",
       "    </tr>\n",
       "    <tr>\n",
       "      <th>5</th>\n",
       "      <td>5</td>\n",
       "      <td>116</td>\n",
       "      <td>74</td>\n",
       "      <td>0</td>\n",
       "      <td>0</td>\n",
       "      <td>25.6</td>\n",
       "      <td>0.201</td>\n",
       "      <td>30</td>\n",
       "      <td>0</td>\n",
       "    </tr>\n",
       "    <tr>\n",
       "      <th>6</th>\n",
       "      <td>3</td>\n",
       "      <td>78</td>\n",
       "      <td>50</td>\n",
       "      <td>32</td>\n",
       "      <td>88</td>\n",
       "      <td>31.0</td>\n",
       "      <td>0.248</td>\n",
       "      <td>26</td>\n",
       "      <td>1</td>\n",
       "    </tr>\n",
       "    <tr>\n",
       "      <th>7</th>\n",
       "      <td>10</td>\n",
       "      <td>115</td>\n",
       "      <td>0</td>\n",
       "      <td>0</td>\n",
       "      <td>0</td>\n",
       "      <td>35.3</td>\n",
       "      <td>0.134</td>\n",
       "      <td>29</td>\n",
       "      <td>0</td>\n",
       "    </tr>\n",
       "    <tr>\n",
       "      <th>8</th>\n",
       "      <td>2</td>\n",
       "      <td>197</td>\n",
       "      <td>70</td>\n",
       "      <td>45</td>\n",
       "      <td>543</td>\n",
       "      <td>30.5</td>\n",
       "      <td>0.158</td>\n",
       "      <td>53</td>\n",
       "      <td>1</td>\n",
       "    </tr>\n",
       "    <tr>\n",
       "      <th>9</th>\n",
       "      <td>8</td>\n",
       "      <td>125</td>\n",
       "      <td>96</td>\n",
       "      <td>0</td>\n",
       "      <td>0</td>\n",
       "      <td>0.0</td>\n",
       "      <td>0.232</td>\n",
       "      <td>54</td>\n",
       "      <td>1</td>\n",
       "    </tr>\n",
       "  </tbody>\n",
       "</table>\n",
       "</div>"
      ],
      "text/plain": [
       "   Pregnancies  Glucose  BloodPressure  SkinThickness  Insulin   BMI  \\\n",
       "0            6      148             72             35        0  33.6   \n",
       "1            1       85             66             29        0  26.6   \n",
       "2            8      183             64              0        0  23.3   \n",
       "3            1       89             66             23       94  28.1   \n",
       "4            0      137             40             35      168  43.1   \n",
       "5            5      116             74              0        0  25.6   \n",
       "6            3       78             50             32       88  31.0   \n",
       "7           10      115              0              0        0  35.3   \n",
       "8            2      197             70             45      543  30.5   \n",
       "9            8      125             96              0        0   0.0   \n",
       "\n",
       "   DiabetesPedigreeFunction  Age  Outcome  \n",
       "0                     0.627   50        1  \n",
       "1                     0.351   31        0  \n",
       "2                     0.672   32        1  \n",
       "3                     0.167   21        0  \n",
       "4                     2.288   33        1  \n",
       "5                     0.201   30        0  \n",
       "6                     0.248   26        1  \n",
       "7                     0.134   29        0  \n",
       "8                     0.158   53        1  \n",
       "9                     0.232   54        1  "
      ]
     },
     "execution_count": 1,
     "metadata": {},
     "output_type": "execute_result"
    }
   ],
   "source": [
    "import tensorflow as tf\n",
    "import numpy as np\n",
    "import pandas as pd\n",
    "dataset = pd.read_csv(\"datadiabetes.csv\")\n",
    "dataset.head(10)"
   ]
  },
  {
   "cell_type": "code",
   "execution_count": 2,
   "metadata": {},
   "outputs": [],
   "source": [
    "x = dataset.iloc[:,0:8].values\n",
    "y = dataset.iloc[:,8].values"
   ]
  },
  {
   "cell_type": "code",
   "execution_count": 3,
   "metadata": {},
   "outputs": [],
   "source": [
    "from sklearn.preprocessing import StandardScaler\n",
    "sc = StandardScaler() \n",
    "x = sc.fit_transform(x)"
   ]
  },
  {
   "cell_type": "code",
   "execution_count": 4,
   "metadata": {},
   "outputs": [],
   "source": [
    "from sklearn.model_selection import train_test_split\n",
    "x_train, x_test, y_train, y_test = train_test_split(x,y,test_size=0.2,random_state=42)"
   ]
  },
  {
   "cell_type": "code",
   "execution_count": 5,
   "metadata": {},
   "outputs": [
    {
     "name": "stderr",
     "output_type": "stream",
     "text": [
      "Using TensorFlow backend.\n"
     ]
    }
   ],
   "source": [
    "#Define the model\n",
    "import keras\n",
    "from keras.models import Sequential\n",
    "from keras.layers import Dense\n",
    "\n",
    "model = Sequential()\n",
    "model.add(Dense(12, input_dim=8, activation=\"relu\"))\n",
    "model.add(Dense(8, activation=\"relu\"))\n",
    "model.add(Dense(1, activation=\"sigmoid\"))"
   ]
  },
  {
   "cell_type": "code",
   "execution_count": 6,
   "metadata": {},
   "outputs": [],
   "source": [
    "#Comoile the model\n",
    "model.compile(loss='binary_crossentropy',optimizer='adam',metrics=['accuracy'])"
   ]
  },
  {
   "cell_type": "code",
   "execution_count": 7,
   "metadata": {},
   "outputs": [
    {
     "name": "stdout",
     "output_type": "stream",
     "text": [
      "Train on 614 samples, validate on 154 samples\n",
      "Epoch 1/100\n",
      "614/614 [==============================] - 3s 5ms/step - loss: 0.7213 - accuracy: 0.4316 - val_loss: 0.7048 - val_accuracy: 0.4351\n",
      "Epoch 2/100\n",
      "614/614 [==============================] - 0s 54us/step - loss: 0.7050 - accuracy: 0.4951 - val_loss: 0.6909 - val_accuracy: 0.5000\n",
      "Epoch 3/100\n",
      "614/614 [==============================] - 0s 68us/step - loss: 0.6927 - accuracy: 0.5635 - val_loss: 0.6808 - val_accuracy: 0.5519\n",
      "Epoch 4/100\n",
      "614/614 [==============================] - 0s 59us/step - loss: 0.6838 - accuracy: 0.6173 - val_loss: 0.6725 - val_accuracy: 0.6104\n",
      "Epoch 5/100\n",
      "614/614 [==============================] - 0s 51us/step - loss: 0.6755 - accuracy: 0.6466 - val_loss: 0.6646 - val_accuracy: 0.6429\n",
      "Epoch 6/100\n",
      "614/614 [==============================] - 0s 56us/step - loss: 0.6675 - accuracy: 0.6596 - val_loss: 0.6565 - val_accuracy: 0.6558\n",
      "Epoch 7/100\n",
      "614/614 [==============================] - 0s 64us/step - loss: 0.6580 - accuracy: 0.6612 - val_loss: 0.6468 - val_accuracy: 0.6558\n",
      "Epoch 8/100\n",
      "614/614 [==============================] - 0s 52us/step - loss: 0.6483 - accuracy: 0.6564 - val_loss: 0.6342 - val_accuracy: 0.6558\n",
      "Epoch 9/100\n",
      "614/614 [==============================] - 0s 53us/step - loss: 0.6345 - accuracy: 0.6596 - val_loss: 0.6216 - val_accuracy: 0.6558\n",
      "Epoch 10/100\n",
      "614/614 [==============================] - 0s 54us/step - loss: 0.6213 - accuracy: 0.6596 - val_loss: 0.6080 - val_accuracy: 0.6558\n",
      "Epoch 11/100\n",
      "614/614 [==============================] - 0s 61us/step - loss: 0.6078 - accuracy: 0.6580 - val_loss: 0.5957 - val_accuracy: 0.6558\n",
      "Epoch 12/100\n",
      "614/614 [==============================] - 0s 58us/step - loss: 0.5947 - accuracy: 0.6612 - val_loss: 0.5850 - val_accuracy: 0.6558\n",
      "Epoch 13/100\n",
      "614/614 [==============================] - 0s 61us/step - loss: 0.5838 - accuracy: 0.6612 - val_loss: 0.5734 - val_accuracy: 0.6558\n",
      "Epoch 14/100\n",
      "614/614 [==============================] - 0s 51us/step - loss: 0.5734 - accuracy: 0.6629 - val_loss: 0.5644 - val_accuracy: 0.6623\n",
      "Epoch 15/100\n",
      "614/614 [==============================] - 0s 61us/step - loss: 0.5647 - accuracy: 0.6645 - val_loss: 0.5573 - val_accuracy: 0.6623\n",
      "Epoch 16/100\n",
      "614/614 [==============================] - 0s 58us/step - loss: 0.5569 - accuracy: 0.6612 - val_loss: 0.5518 - val_accuracy: 0.6688\n",
      "Epoch 17/100\n",
      "614/614 [==============================] - 0s 61us/step - loss: 0.5500 - accuracy: 0.6629 - val_loss: 0.5464 - val_accuracy: 0.6688\n",
      "Epoch 18/100\n",
      "614/614 [==============================] - 0s 70us/step - loss: 0.5436 - accuracy: 0.6661 - val_loss: 0.5421 - val_accuracy: 0.6688\n",
      "Epoch 19/100\n",
      "614/614 [==============================] - 0s 58us/step - loss: 0.5380 - accuracy: 0.6678 - val_loss: 0.5374 - val_accuracy: 0.6688\n",
      "Epoch 20/100\n",
      "614/614 [==============================] - 0s 62us/step - loss: 0.5327 - accuracy: 0.6678 - val_loss: 0.5337 - val_accuracy: 0.6688\n",
      "Epoch 21/100\n",
      "614/614 [==============================] - 0s 72us/step - loss: 0.5276 - accuracy: 0.6678 - val_loss: 0.5297 - val_accuracy: 0.6753\n",
      "Epoch 22/100\n",
      "614/614 [==============================] - 0s 71us/step - loss: 0.5223 - accuracy: 0.6775 - val_loss: 0.5259 - val_accuracy: 0.6818\n",
      "Epoch 23/100\n",
      "614/614 [==============================] - 0s 59us/step - loss: 0.5176 - accuracy: 0.6824 - val_loss: 0.5214 - val_accuracy: 0.7078\n",
      "Epoch 24/100\n",
      "614/614 [==============================] - 0s 61us/step - loss: 0.5126 - accuracy: 0.6954 - val_loss: 0.5180 - val_accuracy: 0.7468\n",
      "Epoch 25/100\n",
      "614/614 [==============================] - 0s 68us/step - loss: 0.5076 - accuracy: 0.7036 - val_loss: 0.5130 - val_accuracy: 0.7532\n",
      "Epoch 26/100\n",
      "614/614 [==============================] - 0s 59us/step - loss: 0.5027 - accuracy: 0.7215 - val_loss: 0.5081 - val_accuracy: 0.7662\n",
      "Epoch 27/100\n",
      "614/614 [==============================] - 0s 62us/step - loss: 0.4978 - accuracy: 0.7296 - val_loss: 0.5023 - val_accuracy: 0.7597\n",
      "Epoch 28/100\n",
      "614/614 [==============================] - 0s 60us/step - loss: 0.4928 - accuracy: 0.7492 - val_loss: 0.4974 - val_accuracy: 0.7727\n",
      "Epoch 29/100\n",
      "614/614 [==============================] - 0s 74us/step - loss: 0.4880 - accuracy: 0.7541 - val_loss: 0.4931 - val_accuracy: 0.7792\n",
      "Epoch 30/100\n",
      "614/614 [==============================] - 0s 62us/step - loss: 0.4834 - accuracy: 0.7524 - val_loss: 0.4885 - val_accuracy: 0.7987\n",
      "Epoch 31/100\n",
      "614/614 [==============================] - 0s 63us/step - loss: 0.4795 - accuracy: 0.7557 - val_loss: 0.4837 - val_accuracy: 0.7987\n",
      "Epoch 32/100\n",
      "614/614 [==============================] - 0s 55us/step - loss: 0.4752 - accuracy: 0.7671 - val_loss: 0.4806 - val_accuracy: 0.7857\n",
      "Epoch 33/100\n",
      "614/614 [==============================] - 0s 62us/step - loss: 0.4720 - accuracy: 0.7752 - val_loss: 0.4786 - val_accuracy: 0.7792\n",
      "Epoch 34/100\n",
      "614/614 [==============================] - 0s 67us/step - loss: 0.4691 - accuracy: 0.7769 - val_loss: 0.4777 - val_accuracy: 0.7857\n",
      "Epoch 35/100\n",
      "614/614 [==============================] - 0s 55us/step - loss: 0.4667 - accuracy: 0.7769 - val_loss: 0.4766 - val_accuracy: 0.7792\n",
      "Epoch 36/100\n",
      "614/614 [==============================] - 0s 65us/step - loss: 0.4641 - accuracy: 0.7785 - val_loss: 0.4756 - val_accuracy: 0.7857\n",
      "Epoch 37/100\n",
      "614/614 [==============================] - 0s 55us/step - loss: 0.4621 - accuracy: 0.7769 - val_loss: 0.4747 - val_accuracy: 0.7857\n",
      "Epoch 38/100\n",
      "614/614 [==============================] - 0s 63us/step - loss: 0.4602 - accuracy: 0.7769 - val_loss: 0.4734 - val_accuracy: 0.7922\n",
      "Epoch 39/100\n",
      "614/614 [==============================] - 0s 55us/step - loss: 0.4578 - accuracy: 0.7801 - val_loss: 0.4729 - val_accuracy: 0.7987\n",
      "Epoch 40/100\n",
      "614/614 [==============================] - 0s 51us/step - loss: 0.4556 - accuracy: 0.7818 - val_loss: 0.4713 - val_accuracy: 0.7922\n",
      "Epoch 41/100\n",
      "614/614 [==============================] - 0s 51us/step - loss: 0.4538 - accuracy: 0.7818 - val_loss: 0.4706 - val_accuracy: 0.7922\n",
      "Epoch 42/100\n",
      "614/614 [==============================] - 0s 51us/step - loss: 0.4518 - accuracy: 0.7866 - val_loss: 0.4699 - val_accuracy: 0.7922\n",
      "Epoch 43/100\n",
      "614/614 [==============================] - 0s 51us/step - loss: 0.4500 - accuracy: 0.7834 - val_loss: 0.4707 - val_accuracy: 0.7857\n",
      "Epoch 44/100\n",
      "614/614 [==============================] - 0s 48us/step - loss: 0.4488 - accuracy: 0.7834 - val_loss: 0.4713 - val_accuracy: 0.7792\n",
      "Epoch 45/100\n",
      "614/614 [==============================] - 0s 49us/step - loss: 0.4466 - accuracy: 0.7801 - val_loss: 0.4712 - val_accuracy: 0.7792\n",
      "Epoch 46/100\n",
      "614/614 [==============================] - 0s 48us/step - loss: 0.4452 - accuracy: 0.7834 - val_loss: 0.4717 - val_accuracy: 0.7792\n",
      "Epoch 47/100\n",
      "614/614 [==============================] - 0s 56us/step - loss: 0.4439 - accuracy: 0.7850 - val_loss: 0.4729 - val_accuracy: 0.7792\n",
      "Epoch 48/100\n",
      "614/614 [==============================] - 0s 54us/step - loss: 0.4423 - accuracy: 0.7883 - val_loss: 0.4737 - val_accuracy: 0.7857\n",
      "Epoch 49/100\n",
      "614/614 [==============================] - 0s 55us/step - loss: 0.4408 - accuracy: 0.7866 - val_loss: 0.4736 - val_accuracy: 0.7792\n",
      "Epoch 50/100\n",
      "614/614 [==============================] - 0s 49us/step - loss: 0.4396 - accuracy: 0.7899 - val_loss: 0.4732 - val_accuracy: 0.7792\n",
      "Epoch 51/100\n",
      "614/614 [==============================] - 0s 50us/step - loss: 0.4384 - accuracy: 0.7883 - val_loss: 0.4725 - val_accuracy: 0.7792\n",
      "Epoch 52/100\n",
      "614/614 [==============================] - 0s 60us/step - loss: 0.4373 - accuracy: 0.7883 - val_loss: 0.4723 - val_accuracy: 0.7792\n",
      "Epoch 53/100\n",
      "614/614 [==============================] - 0s 59us/step - loss: 0.4357 - accuracy: 0.7899 - val_loss: 0.4730 - val_accuracy: 0.7792\n",
      "Epoch 54/100\n",
      "614/614 [==============================] - 0s 55us/step - loss: 0.4348 - accuracy: 0.7866 - val_loss: 0.4738 - val_accuracy: 0.7792\n",
      "Epoch 55/100\n",
      "614/614 [==============================] - 0s 51us/step - loss: 0.4338 - accuracy: 0.7883 - val_loss: 0.4742 - val_accuracy: 0.7792\n",
      "Epoch 56/100\n",
      "614/614 [==============================] - 0s 82us/step - loss: 0.4328 - accuracy: 0.7850 - val_loss: 0.4742 - val_accuracy: 0.7792\n",
      "Epoch 57/100\n"
     ]
    },
    {
     "name": "stdout",
     "output_type": "stream",
     "text": [
      "614/614 [==============================] - 0s 80us/step - loss: 0.4316 - accuracy: 0.7883 - val_loss: 0.4745 - val_accuracy: 0.7792\n",
      "Epoch 58/100\n",
      "614/614 [==============================] - 0s 80us/step - loss: 0.4305 - accuracy: 0.7866 - val_loss: 0.4748 - val_accuracy: 0.7792\n",
      "Epoch 59/100\n",
      "614/614 [==============================] - 0s 56us/step - loss: 0.4297 - accuracy: 0.7866 - val_loss: 0.4747 - val_accuracy: 0.7792\n",
      "Epoch 60/100\n",
      "614/614 [==============================] - 0s 51us/step - loss: 0.4287 - accuracy: 0.7883 - val_loss: 0.4742 - val_accuracy: 0.7792\n",
      "Epoch 61/100\n",
      "614/614 [==============================] - 0s 52us/step - loss: 0.4279 - accuracy: 0.7866 - val_loss: 0.4749 - val_accuracy: 0.7857\n",
      "Epoch 62/100\n",
      "614/614 [==============================] - 0s 56us/step - loss: 0.4271 - accuracy: 0.7866 - val_loss: 0.4756 - val_accuracy: 0.7857\n",
      "Epoch 63/100\n",
      "614/614 [==============================] - 0s 52us/step - loss: 0.4263 - accuracy: 0.7866 - val_loss: 0.4755 - val_accuracy: 0.7792\n",
      "Epoch 64/100\n",
      "614/614 [==============================] - 0s 56us/step - loss: 0.4254 - accuracy: 0.7866 - val_loss: 0.4766 - val_accuracy: 0.7792\n",
      "Epoch 65/100\n",
      "614/614 [==============================] - 0s 51us/step - loss: 0.4251 - accuracy: 0.7883 - val_loss: 0.4765 - val_accuracy: 0.7727\n",
      "Epoch 66/100\n",
      "614/614 [==============================] - 0s 54us/step - loss: 0.4237 - accuracy: 0.7883 - val_loss: 0.4769 - val_accuracy: 0.7792\n",
      "Epoch 67/100\n",
      "614/614 [==============================] - 0s 46us/step - loss: 0.4229 - accuracy: 0.7883 - val_loss: 0.4769 - val_accuracy: 0.7792\n",
      "Epoch 68/100\n",
      "614/614 [==============================] - 0s 63us/step - loss: 0.4222 - accuracy: 0.7899 - val_loss: 0.4778 - val_accuracy: 0.7792\n",
      "Epoch 69/100\n",
      "614/614 [==============================] - 0s 50us/step - loss: 0.4215 - accuracy: 0.7915 - val_loss: 0.4783 - val_accuracy: 0.7662\n",
      "Epoch 70/100\n",
      "614/614 [==============================] - 0s 51us/step - loss: 0.4207 - accuracy: 0.7932 - val_loss: 0.4788 - val_accuracy: 0.7727\n",
      "Epoch 71/100\n",
      "614/614 [==============================] - 0s 54us/step - loss: 0.4201 - accuracy: 0.7932 - val_loss: 0.4792 - val_accuracy: 0.7727\n",
      "Epoch 72/100\n",
      "614/614 [==============================] - 0s 53us/step - loss: 0.4193 - accuracy: 0.7915 - val_loss: 0.4778 - val_accuracy: 0.7727\n",
      "Epoch 73/100\n",
      "614/614 [==============================] - 0s 47us/step - loss: 0.4186 - accuracy: 0.7932 - val_loss: 0.4779 - val_accuracy: 0.7727\n",
      "Epoch 74/100\n",
      "614/614 [==============================] - 0s 51us/step - loss: 0.4182 - accuracy: 0.7932 - val_loss: 0.4791 - val_accuracy: 0.7727\n",
      "Epoch 75/100\n",
      "614/614 [==============================] - 0s 48us/step - loss: 0.4176 - accuracy: 0.7932 - val_loss: 0.4792 - val_accuracy: 0.7792\n",
      "Epoch 76/100\n",
      "614/614 [==============================] - 0s 55us/step - loss: 0.4169 - accuracy: 0.7948 - val_loss: 0.4785 - val_accuracy: 0.7727\n",
      "Epoch 77/100\n",
      "614/614 [==============================] - 0s 48us/step - loss: 0.4164 - accuracy: 0.7980 - val_loss: 0.4781 - val_accuracy: 0.7727\n",
      "Epoch 78/100\n",
      "614/614 [==============================] - 0s 50us/step - loss: 0.4157 - accuracy: 0.7948 - val_loss: 0.4788 - val_accuracy: 0.7727\n",
      "Epoch 79/100\n",
      "614/614 [==============================] - 0s 49us/step - loss: 0.4149 - accuracy: 0.7948 - val_loss: 0.4791 - val_accuracy: 0.7727\n",
      "Epoch 80/100\n",
      "614/614 [==============================] - 0s 55us/step - loss: 0.4143 - accuracy: 0.7964 - val_loss: 0.4795 - val_accuracy: 0.7727\n",
      "Epoch 81/100\n",
      "614/614 [==============================] - 0s 65us/step - loss: 0.4139 - accuracy: 0.7980 - val_loss: 0.4800 - val_accuracy: 0.7792\n",
      "Epoch 82/100\n",
      "614/614 [==============================] - 0s 56us/step - loss: 0.4133 - accuracy: 0.7980 - val_loss: 0.4800 - val_accuracy: 0.7792\n",
      "Epoch 83/100\n",
      "614/614 [==============================] - 0s 54us/step - loss: 0.4128 - accuracy: 0.8013 - val_loss: 0.4807 - val_accuracy: 0.7727\n",
      "Epoch 84/100\n",
      "614/614 [==============================] - 0s 56us/step - loss: 0.4123 - accuracy: 0.8046 - val_loss: 0.4809 - val_accuracy: 0.7727\n",
      "Epoch 85/100\n",
      "614/614 [==============================] - 0s 54us/step - loss: 0.4118 - accuracy: 0.8062 - val_loss: 0.4799 - val_accuracy: 0.7727\n",
      "Epoch 86/100\n",
      "614/614 [==============================] - 0s 51us/step - loss: 0.4111 - accuracy: 0.8029 - val_loss: 0.4803 - val_accuracy: 0.7727\n",
      "Epoch 87/100\n",
      "614/614 [==============================] - 0s 49us/step - loss: 0.4107 - accuracy: 0.8046 - val_loss: 0.4794 - val_accuracy: 0.7727\n",
      "Epoch 88/100\n",
      "614/614 [==============================] - 0s 73us/step - loss: 0.4099 - accuracy: 0.8078 - val_loss: 0.4807 - val_accuracy: 0.7727\n",
      "Epoch 89/100\n",
      "614/614 [==============================] - 0s 55us/step - loss: 0.4093 - accuracy: 0.8078 - val_loss: 0.4803 - val_accuracy: 0.7792\n",
      "Epoch 90/100\n",
      "614/614 [==============================] - 0s 64us/step - loss: 0.4089 - accuracy: 0.8046 - val_loss: 0.4798 - val_accuracy: 0.7792\n",
      "Epoch 91/100\n",
      "614/614 [==============================] - 0s 55us/step - loss: 0.4081 - accuracy: 0.8078 - val_loss: 0.4804 - val_accuracy: 0.7792\n",
      "Epoch 92/100\n",
      "614/614 [==============================] - 0s 52us/step - loss: 0.4076 - accuracy: 0.8078 - val_loss: 0.4815 - val_accuracy: 0.7727\n",
      "Epoch 93/100\n",
      "614/614 [==============================] - 0s 65us/step - loss: 0.4071 - accuracy: 0.8046 - val_loss: 0.4814 - val_accuracy: 0.7727\n",
      "Epoch 94/100\n",
      "614/614 [==============================] - 0s 52us/step - loss: 0.4064 - accuracy: 0.8062 - val_loss: 0.4819 - val_accuracy: 0.7727\n",
      "Epoch 95/100\n",
      "614/614 [==============================] - 0s 51us/step - loss: 0.4058 - accuracy: 0.8029 - val_loss: 0.4833 - val_accuracy: 0.7727\n",
      "Epoch 96/100\n",
      "614/614 [==============================] - 0s 64us/step - loss: 0.4050 - accuracy: 0.8046 - val_loss: 0.4825 - val_accuracy: 0.7727\n",
      "Epoch 97/100\n",
      "614/614 [==============================] - 0s 66us/step - loss: 0.4046 - accuracy: 0.8062 - val_loss: 0.4827 - val_accuracy: 0.7727\n",
      "Epoch 98/100\n",
      "614/614 [==============================] - 0s 66us/step - loss: 0.4040 - accuracy: 0.8062 - val_loss: 0.4829 - val_accuracy: 0.7727\n",
      "Epoch 99/100\n",
      "614/614 [==============================] - 0s 69us/step - loss: 0.4035 - accuracy: 0.8062 - val_loss: 0.4833 - val_accuracy: 0.7727\n",
      "Epoch 100/100\n",
      "614/614 [==============================] - 0s 56us/step - loss: 0.4027 - accuracy: 0.8078 - val_loss: 0.4833 - val_accuracy: 0.7792\n"
     ]
    }
   ],
   "source": [
    "#Fit the model\n",
    "history = model.fit(x_train,y_train,epochs=100,batch_size=50,validation_data=(x_test,y_test))"
   ]
  },
  {
   "cell_type": "code",
   "execution_count": 8,
   "metadata": {},
   "outputs": [
    {
     "name": "stdout",
     "output_type": "stream",
     "text": [
      "768/768 [==============================] - 0s 34us/step\n",
      "acuuracy: 80.34\n"
     ]
    }
   ],
   "source": [
    "#Evaluate the Keras Model\n",
    "_,accuracy = model.evaluate(x,y)\n",
    "print(\"acuuracy: %.2f\" % (accuracy*100))"
   ]
  },
  {
   "cell_type": "code",
   "execution_count": 9,
   "metadata": {},
   "outputs": [
    {
     "name": "stdout",
     "output_type": "stream",
     "text": [
      "dict_keys(['val_loss', 'val_accuracy', 'loss', 'accuracy'])\n"
     ]
    },
    {
     "data": {
      "image/png": "[encoded data removed]",
      "text/plain": [
       "<Figure size 432x288 with 1 Axes>"
      ]
     },
     "metadata": {
      "needs_background": "light"
     },
     "output_type": "display_data"
    }
   ],
   "source": [
    "#Visualization of Accuracy\n",
    "import matplotlib.pyplot as plt\n",
    "print(history.history.keys())\n",
    "#Accuracy\n",
    "plt.plot(history.history['accuracy'])\n",
    "plt.plot(history.history['val_accuracy'])\n",
    "plt.title('model accuracy')\n",
    "plt.ylabel('accuracy')\n",
    "plt.xlabel('epoch')\n",
    "plt.legend(['train','validation'], loc= 'upper left')\n",
    "plt.show()"
   ]
  },
  {
   "cell_type": "code",
   "execution_count": 10,
   "metadata": {},
   "outputs": [
    {
     "data": {
      "image/png": "[encoded data removed]",
      "text/plain": [
       "<Figure size 432x288 with 1 Axes>"
      ]
     },
     "metadata": {
      "needs_background": "light"
     },
     "output_type": "display_data"
    }
   ],
   "source": [
    "#Visualization of loss\n",
    "plt.plot(history.history['loss'])\n",
    "plt.plot(history.history['val_loss'])\n",
    "plt.title('model loss')\n",
    "plt.ylabel('loss')\n",
    "plt.xlabel('epoch')\n",
    "plt.legend(['train','validation'], loc= 'upper left')\n",
    "plt.show()"
   ]
  },
  {
   "cell_type": "code",
   "execution_count": 11,
   "metadata": {},
   "outputs": [],
   "source": [
    "keras_file=\"linear.h5\"\n",
    "keras.models.save_model(model,keras_file)"
   ]
  },
  {
   "cell_type": "code",
   "execution_count": 30,
   "metadata": {},
   "outputs": [
    {
     "data": {
      "text/plain": [
       "2480"
      ]
     },
     "execution_count": 30,
     "metadata": {},
     "output_type": "execute_result"
    }
   ],
   "source": [
    "#converter = tf.compat.v1.lite.TFLiteConverter.from_keras_model_file(keras_file)\n",
    "#converter.experimental_new_converter = True\n",
    "#tflite_model = converter.convert()\n",
    "#open(\"linear.tflite\", \"wb\").write(tflite_model)"
   ]
  },
  {
   "cell_type": "code",
   "execution_count": 26,
   "metadata": {},
   "outputs": [
    {
     "name": "stdout",
     "output_type": "stream",
     "text": [
      "INFO:tensorflow:Assets written to: /Users/DELL/Desktop/practice/frontend/keras\\assets\n"
     ]
    },
    {
     "data": {
      "text/plain": [
       "2932"
      ]
     },
     "execution_count": 26,
     "metadata": {},
     "output_type": "execute_result"
    }
   ],
   "source": [
    "import tensorflow as tf\n",
    "\n",
    "model = tf.keras.models.load_model('linear.h5')\n",
    "\n",
    "# Save the model.\n",
    "export_dir = \"/Users/DELL/Desktop/practice/frontend/keras\"\n",
    "tf.saved_model.save(model, export_dir)\n",
    "\n",
    "# Load model and get the concrete function.\n",
    "model = tf.saved_model.load(export_dir)\n",
    "concrete_func = model.signatures[\n",
    "  tf.saved_model.DEFAULT_SERVING_SIGNATURE_DEF_KEY]\n",
    "\n",
    "# Convert the model.\n",
    "converter = tf.lite.TFLiteConverter.from_concrete_functions([concrete_func])\n",
    "tflite_model = converter.convert()\n",
    "open(\"converted_model.tflite\",\"wb\").write(tflite_model)"
   ]
  },
  {
   "cell_type": "code",
   "execution_count": null,
   "metadata": {},
   "outputs": [],
   "source": [
    "#model.save(\"model_diabetes.h5\")\n",
    "#Prediction\n",
    "#test_diabetes = np.array([x_train[0]])\n",
    "#result = model.predict_classes(test_diabetes)\n",
    "#if result == 0:\n",
    "#    print(\"No Diabetes\")\n",
    "#else:\n",
    "#    print(\"Diabetes\")\n",
    "#p = 2\n",
    "#glucose = 100\n",
    "#bp= 120\n",
    "#skin_thickness=40\n",
    "#insulin=120\n",
    "#bmi=33\n",
    "#pd=0.77\n",
    "#age=50\n",
    "#test = np.array([[p,glucose,bp,skin_thickness,insulin,bmi,pd,age]])\n",
    "#test_diabetes = np.array(test)\n",
    "#if result == 0:\n",
    "#    print(\"No Diabetes\")\n",
    "#else:\n",
    "#    print(\"Diabetes\")"
   ]
  },
  {
   "cell_type": "code",
   "execution_count": null,
   "metadata": {},
   "outputs": [],
   "source": []
  }
 ],
 "metadata": {
  "kernelspec": {
   "display_name": "Python 3",
   "language": "python",
   "name": "python3"
  },
  "language_info": {
   "codemirror_mode": {
    "name": "ipython",
    "version": 3
   },
   "file_extension": ".py",
   "mimetype": "text/x-python",
   "name": "python",
   "nbconvert_exporter": "python",
   "pygments_lexer": "ipython3",
   "version": "3.7.7"
  }
 },
 "nbformat": 4,
 "nbformat_minor": 4
}
